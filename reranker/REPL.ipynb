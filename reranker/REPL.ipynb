{
 "cells": [
  {
   "cell_type": "code",
   "execution_count": 1,
   "metadata": {
    "collapsed": false
   },
   "outputs": [],
   "source": [
    "#!/usr/bin/env python\n",
    "import optparse, sys, os\n",
    "from collections import namedtuple\n",
    "import random\n",
    "import math\n",
    "\n",
    "import numpy as np\n",
    "\n",
    "import bleu"
   ]
  },
  {
   "cell_type": "code",
   "execution_count": 2,
   "metadata": {
    "collapsed": false
   },
   "outputs": [
    {
     "name": "stdout",
     "output_type": "stream",
     "text": [
      "None\n"
     ]
    }
   ],
   "source": [
    "w = None\n",
    "if opts.weights is not None:\n",
    "    weights_file = sys.stdin if opts.weights is \"-\" else open(opts.weights)\n",
    "    w = [float(line.strip()) for line in weights_file]\n",
    "    w = map(lambda x: 1.0 if math.isnan(x) or x == float(\"-inf\") or x == float(\"inf\") or x == 0.0 else x, w)\n",
    "    w = None if len(w) == 0 else w\n",
    "print(w)"
   ]
  },
  {
   "cell_type": "code",
   "execution_count": 3,
   "metadata": {
    "collapsed": true
   },
   "outputs": [],
   "source": [
    "translation = namedtuple(\"translation\", \"english, score\")\n",
    "nbests = []\n",
    "\n",
    "for line in open(opts.nbest):\n",
    "    (i, sentence, features) = line.strip().split(\"|||\")\n",
    "    if len(nbests) <= int(i):\n",
    "        nbests.append([])\n",
    "    features = [float(h) for h in features.strip().split()]\n",
    "    \n",
    "    if w is None or len(w) != len(features):\n",
    "        w = [1.0/len(features) for _ in xrange(len(features))]\n",
    "    \n",
    "    nbests[int(i)].append(translation(sentence.strip(), sum([x*y for x,y in zip(w, features)])))"
   ]
  },
  {
   "cell_type": "code",
   "execution_count": 26,
   "metadata": {
    "collapsed": false
   },
   "outputs": [
    {
     "data": {
      "text/plain": [
       "([-62.707, -4.0, -16.0, -5.0, -30.0, -13.029],\n",
       " [0.16666666666666666,\n",
       "  0.16666666666666666,\n",
       "  0.16666666666666666,\n",
       "  0.16666666666666666,\n",
       "  0.16666666666666666,\n",
       "  0.16666666666666666])"
      ]
     },
     "execution_count": 26,
     "metadata": {},
     "output_type": "execute_result"
    }
   ],
   "source": [
    "features, w"
   ]
  },
  {
   "cell_type": "code",
   "execution_count": 28,
   "metadata": {
    "collapsed": false
   },
   "outputs": [
    {
     "data": {
      "text/plain": [
       "0.9375"
      ]
     },
     "execution_count": 28,
     "metadata": {},
     "output_type": "execute_result"
    }
   ],
   "source": [
    "bleu.smoothed_bleu(w)"
   ]
  },
  {
   "cell_type": "code",
   "execution_count": 29,
   "metadata": {
    "collapsed": false
   },
   "outputs": [
    {
     "data": {
      "text/plain": [
       "translation(english=\"i do not feel in the role of the country 's pr\\xc3\\xa9cepteur as could be springer and i do not intend to be part of these international leagues like the time , these companies have taken far too much importance .\", score=-43.69683333333333)"
      ]
     },
     "execution_count": 29,
     "metadata": {},
     "output_type": "execute_result"
    }
   ],
   "source": [
    "nbests[0][0]"
   ]
  },
  {
   "cell_type": "code",
   "execution_count": null,
   "metadata": {
    "collapsed": true
   },
   "outputs": [],
   "source": []
  }
 ],
 "metadata": {
  "kernelspec": {
   "display_name": "Python [Root]",
   "language": "python",
   "name": "Python [Root]"
  },
  "language_info": {
   "codemirror_mode": {
    "name": "ipython",
    "version": 2
   },
   "file_extension": ".py",
   "mimetype": "text/x-python",
   "name": "python",
   "nbconvert_exporter": "python",
   "pygments_lexer": "ipython2",
   "version": "2.7.12"
  }
 },
 "nbformat": 4,
 "nbformat_minor": 0
}
